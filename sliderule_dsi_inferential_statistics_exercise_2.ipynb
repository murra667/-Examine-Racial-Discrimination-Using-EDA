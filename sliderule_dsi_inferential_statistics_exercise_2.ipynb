{
 "cells": [
  {
   "cell_type": "markdown",
   "metadata": {},
   "source": [
    "# Examining Racial Discrimination in the US Job Market\n",
    "\n",
    "### Background\n",
    "Racial discrimination continues to be pervasive in cultures throughout the world. Researchers examined the level of racial discrimination in the United States labor market by randomly assigning identical résumés to black-sounding or white-sounding names and observing the impact on requests for interviews from employers.\n",
    "\n",
    "### Data\n",
    "In the dataset provided, each row represents a resume. The 'race' column has two values, 'b' and 'w', indicating black-sounding and white-sounding. The column 'call' has two values, 1 and 0, indicating whether the resume received a call from employers or not.\n",
    "\n",
    "Note that the 'b' and 'w' values in race are assigned randomly to the resumes when presented to the employer."
   ]
  },
  {
   "cell_type": "markdown",
   "metadata": {},
   "source": [
    "### Exercises\n",
    "You will perform a statistical analysis to establish whether race has a significant impact on the rate of callbacks for resumes.\n",
    "\n",
    "Answer the following questions **in this notebook below and submit to your Github account**. \n",
    "\n",
    "   1. What test is appropriate for this problem? Does CLT apply?\n",
    "   2. What are the null and alternate hypotheses?\n",
    "   3. Compute margin of error, confidence interval, and p-value.\n",
    "   4. Write a story describing the statistical significance in the context or the original problem.\n",
    "   5. Does your analysis mean that race/name is the most important factor in callback success? Why or why not? If not, how would you amend your analysis?\n",
    "\n",
    "You can include written notes in notebook cells using Markdown: \n",
    "   - In the control panel at the top, choose Cell > Cell Type > Markdown\n",
    "   - Markdown syntax: http://nestacms.com/docs/creating-content/markdown-cheat-sheet\n",
    "\n",
    "\n",
    "#### Resources\n",
    "+ Experiment information and data source: http://www.povertyactionlab.org/evaluation/discrimination-job-market-united-states\n",
    "+ Scipy statistical methods: http://docs.scipy.org/doc/scipy/reference/stats.html \n",
    "+ Markdown syntax: http://nestacms.com/docs/creating-content/markdown-cheat-sheet\n",
    "****"
   ]
  },
  {
   "cell_type": "code",
   "execution_count": 3,
   "metadata": {
    "collapsed": true
   },
   "outputs": [],
   "source": [
    "import pandas as pd\n",
    "import numpy as np\n",
    "from scipy import stats"
   ]
  },
  {
   "cell_type": "code",
   "execution_count": 4,
   "metadata": {
    "collapsed": true
   },
   "outputs": [],
   "source": [
    "data = pd.io.stata.read_stata('data/us_job_market_discrimination.dta')"
   ]
  },
  {
   "cell_type": "code",
   "execution_count": 5,
   "metadata": {},
   "outputs": [
    {
     "name": "stdout",
     "output_type": "stream",
     "text": [
      "Black Callback 157.0 White Population 2435\n",
      "White Callback 235.0 Black Population 2435\n"
     ]
    }
   ],
   "source": [
    "# set some variables with proportions to use in problem\n",
    "black = data[data.race == 'b'].race.count()\n",
    "white = data[data.race=='w'].race.count()\n",
    "black_yes = sum(data[data.race=='b'].call)\n",
    "white_yes = sum(data[data.race=='w'].call)\n",
    "print ('Black Callback', black_yes, 'White Population', white)\n",
    "print ('White Callback', white_yes, 'Black Population', black)\n"
   ]
  },
  {
   "cell_type": "markdown",
   "metadata": {},
   "source": [
    "1)  A proportions z-test is the most appropriate for this problem. The Central Limit Theorem here does apply, as the methodology for assigning black and white names to resumes was random, and the number of resumes sent for both black and white-sounding names exceed 30. "
   ]
  },
  {
   "cell_type": "markdown",
   "metadata": {},
   "source": [
    "2) \n",
    "Null Hypothesis:  The proportion of callbacks with white sounding names is less than or equal to the proportion of callbacks with black sounding names.\n",
    "   \n",
    "Alternative Hypothesis: The proportion of callbacks with black sounding names is less than the proportion of callbacks with white-sounding names "
   ]
  },
  {
   "cell_type": "markdown",
   "metadata": {},
   "source": [
    "3) Compute margin of error, confidence interval, and p-value."
   ]
  },
  {
   "cell_type": "code",
   "execution_count": 8,
   "metadata": {},
   "outputs": [
    {
     "name": "stdout",
     "output_type": "stream",
     "text": [
      "p-value: 1.9919434187925383e-05 is smaller than alpha .05, so reject null hypothesis\n"
     ]
    }
   ],
   "source": [
    "# import proportions z test from statsmodels\n",
    "from statsmodels.stats.proportion import proportions_ztest\n",
    "import numpy as np\n",
    "# create numpy array of callbacks for white and black resumes\n",
    "count = np.array([int(white_yes), int(black_yes)])\n",
    "# create a numpy array of total number of resumes sent for white and black\n",
    "nobs = np.array([int(white), int(black)])\n",
    "# run proportions z test assuming null hypothesis is true, hence \"larger\" as argument for alternative\n",
    "z, p = proportions_ztest(count, nobs, alternative = 'larger' )\n",
    "print (\"p-value: {} is smaller than alpha .05, so reject null hypothesis\".format(p))"
   ]
  },
  {
   "cell_type": "code",
   "execution_count": 19,
   "metadata": {},
   "outputs": [
    {
     "name": "stdout",
     "output_type": "stream",
     "text": [
      "Margin of Error: 0.0153\n",
      "Lower Bound: 0.0168 \n",
      "Upper Bound: 0.0473\n",
      "Confidence Interval: 0.016777447859559147 - 0.047288260559332024\n"
     ]
    }
   ],
   "source": [
    "from statsmodels.stats import proportion\n",
    "import math\n",
    "\n",
    "white_proportion = white_yes/ int(white)\n",
    "black_proportion = black_yes/ int(black)\n",
    "\n",
    "\n",
    "# compute standard error of each proportion\n",
    "SE_white = math.sqrt((white_proportion * (1 - white_proportion))/(white))\n",
    "SE_black = math.sqrt((black_proportion * (1 - black_proportion))/(black))\n",
    "\n",
    "# compute standard error for difference\n",
    "SE_difference = math.sqrt(SE_white **2 + SE_black **2)\n",
    "# z-score corresponds to 95% level of confidence\n",
    "z = 1.96\n",
    "# absolute difference between white and black proportions\n",
    "difference = abs(white_proportion - black_proportion)\n",
    "# calculate upper bound of confidence interval\n",
    "upper = (difference) + z * SE_difference\n",
    "# calculate lower bound of confidence interval\n",
    "lower = (difference) - z * SE_difference\n",
    "# calculate margin of error\n",
    "margin_of_error = z * SE_difference\n",
    "print (\"Margin of Error:\", round(margin_of_error, 4))\n",
    "print (\"Lower Bound:\", round(lower, 4), \"\\n\" \"Upper Bound:\", round(upper, 4))\n",
    "print (\"Confidence Interval:\", lower, \"-\", upper )\n"
   ]
  },
  {
   "cell_type": "markdown",
   "metadata": {},
   "source": [
    "4) In the case of whether or not the data suggest racial discrimination in job call-backs based on racially coded resume names, the p-value of 0.00002 at a .05 level of significance produced through a two-sided proportions z-test leads to a rejection of the null hypothesis; that the proportion of callbacks for white names by the true population of employers is less than or equal to the proportion of callbacks for black names. In other words, there is a .002% chance that the null hypothesis holds true for the true population given the data collected. The alternative hypothesis - that black resumes receive less callbacks than white resumes - should be accepted. A confidence interval calculated for the data suggests that 95% of the time, the difference between the proportion of white resume and black resume callbacks will be between 1.7% and 4.7%, with a chance that the difference between the two will be 1.5% below or above this interval. \n",
    "\n",
    "5) While the results of a z-test investigating a significant difference in resume callbacks can help answer the question of whether or not racial discrimination exists in the marketplace, merely performing a z-test is not enough to say that this is the most important factor in callback success. The analysis analysis could be ammended by performing a multivariate linear regression across several variables defined as important. This will allow for somewhat of a control in determining which variable has the greatest statistically significant correlation with callbak success. "
   ]
  }
 ],
 "metadata": {
  "kernelspec": {
   "display_name": "Python 3",
   "language": "python",
   "name": "python3"
  },
  "language_info": {
   "codemirror_mode": {
    "name": "ipython",
    "version": 3
   },
   "file_extension": ".py",
   "mimetype": "text/x-python",
   "name": "python",
   "nbconvert_exporter": "python",
   "pygments_lexer": "ipython3",
   "version": "3.6.3"
  }
 },
 "nbformat": 4,
 "nbformat_minor": 1
}
